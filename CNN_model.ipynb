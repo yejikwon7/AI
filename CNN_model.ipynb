{
  "nbformat": 4,
  "nbformat_minor": 0,
  "metadata": {
    "colab": {
      "provenance": [],
      "gpuType": "T4",
      "authorship_tag": "ABX9TyNZu+XOB90F3clzFVkiHr0T",
      "include_colab_link": true
    },
    "kernelspec": {
      "name": "python3",
      "display_name": "Python 3"
    },
    "language_info": {
      "name": "python"
    },
    "accelerator": "GPU"
  },
  "cells": [
    {
      "cell_type": "markdown",
      "metadata": {
        "id": "view-in-github",
        "colab_type": "text"
      },
      "source": [
        "<a href=\"https://colab.research.google.com/github/yejikwon7/AI/blob/main/CNN_model.ipynb\" target=\"_parent\"><img src=\"https://colab.research.google.com/assets/colab-badge.svg\" alt=\"Open In Colab\"/></a>"
      ]
    },
    {
      "cell_type": "markdown",
      "source": [
        "필요한 라이브러리 불러오기"
      ],
      "metadata": {
        "id": "0SnB7eM7_CF9"
      }
    },
    {
      "cell_type": "code",
      "execution_count": 7,
      "metadata": {
        "colab": {
          "base_uri": "https://localhost:8080/"
        },
        "id": "B_1WZdjCsz-o",
        "outputId": "0ff1fe95-65e6-4f5d-ac30-e98e6d92065f"
      },
      "outputs": [
        {
          "output_type": "stream",
          "name": "stdout",
          "text": [
            "2.5.1+cu121\n"
          ]
        }
      ],
      "source": [
        "import torch\n",
        "import torch.nn as nn\n",
        "import torch.optim as optim\n",
        "import torch.nn.init as init\n",
        "\n",
        "# torchvision.datasets에 MNIST 등의 다양한 데이터를 사용하기 위해 용이하게 정리\n",
        "import torchvision.datasets as dset   # data set 불러오기 위함\n",
        "\n",
        "# torchvision.transforms에는 이미지 데이터를 자르거나 확대 및 다양하게 변형시키는 함수 구현\n",
        "import torchvision.transforms as transforms   # 변형 작업 수행 위함\n",
        "\n",
        "# DataLoader는 전처리가 끝난 데이터들을 지정한 배치 크기에 맞게 모아서 전달해주는 역할\n",
        "from torch.utils.data import DataLoader\n",
        "import numpy as np # array\n",
        "import matplotlib.pyplot as plt # 그래프\n",
        "\n",
        "print(torch.__version__)"
      ]
    },
    {
      "cell_type": "markdown",
      "source": [
        "하이퍼 파라미터 지정"
      ],
      "metadata": {
        "id": "Wnq72AMw_KS_"
      }
    },
    {
      "cell_type": "code",
      "source": [
        "batch_size = 256\n",
        "learning_rage = 0.0002\n",
        "num_epoch = 10"
      ],
      "metadata": {
        "id": "f22zcgxq-hZ-"
      },
      "execution_count": 8,
      "outputs": []
    },
    {
      "cell_type": "markdown",
      "source": [
        "데이터 다운로드"
      ],
      "metadata": {
        "id": "zNY4RBaU_L13"
      }
    },
    {
      "cell_type": "code",
      "source": [
        "# 첫 번째 인자 root는 데이터 저장할 위치, train은 학습용 데이터인지 테스트용 데이터인지의 여부를 의미\n",
        "\n",
        "# MNIST 데이터는 숫자 손글씨 이미지와 이에 대한 정답 쌍으로 이루어짐\n",
        "# transform은 이미지에 대한 변형, target_transform은 정답 라벨에 대한 변형을 의미\n",
        "# transform.ToTensor()는 PIL 이미지나 Numpy 배열을 토치 텐서로 바꿈\n",
        "\n",
        "# download는 데이터가 저장할 위치에 없을 경우 새로 다운받을지 여부\n",
        "mnist_train = dset.MNIST(\"../\", train=True, transform=transforms.ToTensor(), target_transform=None, download=True)\n",
        "# ToTensor: conv 연산 수행하기 위함\n",
        "# target_transform: label에 대한 변형\n",
        "mnist_test = dset.MNIST(\"../\", train=False, transform=transforms.ToTensor(), target_transform=None, download=True)"
      ],
      "metadata": {
        "id": "H-S0XE66-muj"
      },
      "execution_count": 9,
      "outputs": []
    },
    {
      "cell_type": "markdown",
      "source": [
        "데이터셋 체크"
      ],
      "metadata": {
        "id": "_6UKLRVz_Wjv"
      }
    },
    {
      "cell_type": "code",
      "source": [
        "print(mnist_train.__getitem__(0)[0].size(), mnist_train.__len__())\n",
        "print(mnist_test.__getitem__(0)[0].size(), mnist_test.__len__())\n",
        "\n",
        "print(len(mnist_train), len(mnist_test))"
      ],
      "metadata": {
        "colab": {
          "base_uri": "https://localhost:8080/"
        },
        "id": "m_Ajayon-svS",
        "outputId": "a9ab7cf0-5443-4c5c-9832-6ebb083c76e4"
      },
      "execution_count": 10,
      "outputs": [
        {
          "output_type": "stream",
          "name": "stdout",
          "text": [
            "torch.Size([1, 28, 28]) 60000\n",
            "torch.Size([1, 28, 28]) 10000\n",
            "60000 10000\n"
          ]
        }
      ]
    },
    {
      "cell_type": "markdown",
      "source": [
        "DataLoader 설정: 미니 배치 단위로 구성해야 함"
      ],
      "metadata": {
        "id": "4b01zu4g_YGM"
      }
    },
    {
      "cell_type": "code",
      "source": [
        "train_loader = DataLoader(mnist_train, batch_size=batch_size, shuffle=True, num_workers=2, drop_last=True)\n",
        "# batch_size=batch_size: 배치 단위로 나눔\n",
        "# shuffle: 순차적으로 구성된 data인 경우\n",
        "# drop_last: 남은 data 사용할지 -> 사용X, 온전히 256개로 지정된 data만 사용\n",
        "test_loader = DataLoader(mnist_test, batch_size=batch_size, shuffle=False, num_workers=2, drop_last=True)"
      ],
      "metadata": {
        "id": "QOV4R9rs-0_p"
      },
      "execution_count": 11,
      "outputs": []
    },
    {
      "cell_type": "markdown",
      "source": [
        "CNN 모델"
      ],
      "metadata": {
        "id": "4_-ZxbRd_lr6"
      }
    },
    {
      "cell_type": "code",
      "source": [
        "class CNN(nn.Module):\n",
        "    def __init__(self):\n",
        "        super(CNN, self).__init__()\n",
        "        # conv layer 한꺼번에 묶음\n",
        "        self.layer = nn.Sequential( # 순차적 수행\n",
        "            nn.Conv2d(in_channels=1, out_channels=16, kernel_size=5), # stride=1, padding=0\n",
        "            nn.ReLU(),\n",
        "            nn.Conv2d(in_channels=16, out_channels=32, kernel_size=5),\n",
        "            nn.ReLU(),\n",
        "            nn.MaxPool2d(kernel_size=2, stride=2),\n",
        "            nn.Conv2d(in_channels=32, out_channels=64, kernel_size=5),\n",
        "            nn.ReLU(),\n",
        "            nn.MaxPool2d(kernel_size=2, stride=2)\n",
        "        )\n",
        "        self.fc_layer = nn.Sequential(\n",
        "            nn.Linear(64*3*3, 100),\n",
        "            nn.ReLU(),\n",
        "            nn.Linear(100, 10)\n",
        "        )\n",
        "\n",
        "    # 먼저 수행\n",
        "    def forward(self, x): # 데이터 받아옴\n",
        "        out = self.layer(x) # init에 선언\n",
        "        out = out.view(batch_size, -1) # 평탄화\n",
        "\n",
        "        out = self.fc_layer(out)\n",
        "        return out"
      ],
      "metadata": {
        "id": "H7LT0psc_mo5"
      },
      "execution_count": 12,
      "outputs": []
    },
    {
      "cell_type": "markdown",
      "source": [
        "손실 함수, 최적화 함수"
      ],
      "metadata": {
        "id": "FnJSc1GnC0h9"
      }
    },
    {
      "cell_type": "code",
      "source": [
        "# gpu가 사용 가능한 경우에는 device를 gpu로 설정하고 불가능하면 cpu로 설정\n",
        "device = torch.device(\"cuda:0\" if torch.cuda.is_available() else \"cpu\")\n",
        "print(device)\n",
        "\n",
        "# 모델을 지정한 장치로 올림\n",
        "model = CNN().to(device)\n",
        "# class로 선언한 모델 가져옴\n",
        "# 데이터도 동일하게 올려야 함\n",
        "\n",
        "# 손실함수는 크로스엔트로피 사용\n",
        "loss_func = nn.CrossEntropyLoss()\n",
        "\n",
        "# 최적화 함수는 Adam을 사용\n",
        "optimizer = torch.optim.Adam(model.parameters(), lr=learning_rage)"
      ],
      "metadata": {
        "colab": {
          "base_uri": "https://localhost:8080/"
        },
        "id": "jDj7UcRQC2Gs",
        "outputId": "f1c4f5ed-7dc5-46e1-cebb-adbdd3e0b22d"
      },
      "execution_count": 13,
      "outputs": [
        {
          "output_type": "stream",
          "name": "stdout",
          "text": [
            "cuda:0\n"
          ]
        }
      ]
    },
    {
      "cell_type": "markdown",
      "source": [
        "학습"
      ],
      "metadata": {
        "id": "BMsa8xoVEkfc"
      }
    },
    {
      "cell_type": "code",
      "source": [
        "loss_arr = []\n",
        "for i in range(num_epoch):\n",
        "    for j, [image, label] in enumerate(train_loader): # iteration\n",
        "    # j: 배치 몇 번째인지\n",
        "        x = image.to(device)\n",
        "        y_ = label.to(device)\n",
        "\n",
        "        optimizer.zero_grad()\n",
        "        output = model.forward(x) # 순전파\n",
        "        loss = loss_func(output, y_) # 손실값\n",
        "        loss.backward() # backpropagation, 기울기 구함\n",
        "        optimizer.step() # 최적화\n",
        "\n",
        "        if j % 1000 == 0: # 1000 iteration마다\n",
        "            print(loss)\n",
        "            loss_arr.append(loss.cpu().detach().numpy())"
      ],
      "metadata": {
        "colab": {
          "base_uri": "https://localhost:8080/"
        },
        "id": "WSmlP9OqElp6",
        "outputId": "2a95b099-3fa0-4768-b7ed-d00e4002c7dd"
      },
      "execution_count": 14,
      "outputs": [
        {
          "output_type": "stream",
          "name": "stdout",
          "text": [
            "tensor(2.3138, device='cuda:0', grad_fn=<NllLossBackward0>)\n",
            "tensor(0.3289, device='cuda:0', grad_fn=<NllLossBackward0>)\n",
            "tensor(0.1129, device='cuda:0', grad_fn=<NllLossBackward0>)\n",
            "tensor(0.0821, device='cuda:0', grad_fn=<NllLossBackward0>)\n",
            "tensor(0.1036, device='cuda:0', grad_fn=<NllLossBackward0>)\n",
            "tensor(0.0612, device='cuda:0', grad_fn=<NllLossBackward0>)\n",
            "tensor(0.0343, device='cuda:0', grad_fn=<NllLossBackward0>)\n",
            "tensor(0.0213, device='cuda:0', grad_fn=<NllLossBackward0>)\n",
            "tensor(0.0547, device='cuda:0', grad_fn=<NllLossBackward0>)\n",
            "tensor(0.0402, device='cuda:0', grad_fn=<NllLossBackward0>)\n"
          ]
        }
      ]
    },
    {
      "cell_type": "markdown",
      "source": [
        "학습 시 손실 시각화"
      ],
      "metadata": {
        "id": "BeqpUhb2Exhx"
      }
    },
    {
      "cell_type": "code",
      "source": [
        "plt.plot(loss_arr)\n",
        "plt.show()"
      ],
      "metadata": {
        "colab": {
          "base_uri": "https://localhost:8080/",
          "height": 430
        },
        "id": "DN4TlQzkEyxx",
        "outputId": "be326e55-2dde-4f62-8d63-81adf8bb0074"
      },
      "execution_count": 15,
      "outputs": [
        {
          "output_type": "display_data",
          "data": {
            "text/plain": [
              "<Figure size 640x480 with 1 Axes>"
            ],
            "image/png": "[encoded data removed]"
          },
          "metadata": {}
        }
      ]
    },
    {
      "cell_type": "markdown",
      "source": [
        "테스트 데이터 정확도 측정"
      ],
      "metadata": {
        "id": "wi_vUvmEE2Mp"
      }
    },
    {
      "cell_type": "code",
      "source": [
        "# 맞은 개수, 전체 개수를 저장할 변수를 지정\n",
        "correct = 0\n",
        "total = 0\n",
        "\n",
        "# 인퍼런스 모드를 위해 no_grad 함\n",
        "with torch.no_grad():\n",
        "    # 테스트로더에서 이미지와 정답 불러옴\n",
        "    for image, label in test_loader:\n",
        "        # 두 데이터 모두 장치에 올림\n",
        "        x = image.to(device)\n",
        "        y_ = label.to(device)\n",
        "\n",
        "        # 모델에 데이터 넣고 결과값 얻음\n",
        "        output = model.forward(x)\n",
        "\n",
        "        # 최댓값은 필요없으므로 인덱스만 사용\n",
        "        _, output_index = torch.max(output, 1)\n",
        "\n",
        "        # 전체 개수는 라벨의 개수로 더함\n",
        "        # 전체 개수를 알고 있음에도 batch_size, drop_last 영향으로 데이터 잘릴 수 있으므로 수행\n",
        "        total += label.size(0)\n",
        "\n",
        "        # 모델 결과의 최댓값 인덱스와 라벨이 일치하는 개수를 correct에 더함\n",
        "        correct += (output_index == y_).sum().float()\n",
        "\n",
        "    # 테스트 데이터 전체에 대해 위의 작업을 시행 후 정확도 구함\n",
        "    print(\"Accuracy of Test Data: {}\".format(100*correct/total))"
      ],
      "metadata": {
        "colab": {
          "base_uri": "https://localhost:8080/"
        },
        "id": "GtOSJ7U2E4iA",
        "outputId": "8799e6ef-a390-4ac8-8011-887872a9d583"
      },
      "execution_count": 16,
      "outputs": [
        {
          "output_type": "stream",
          "name": "stdout",
          "text": [
            "Accuracy of Test Data: 98.87820434570312\n"
          ]
        }
      ]
    }
  ]
}