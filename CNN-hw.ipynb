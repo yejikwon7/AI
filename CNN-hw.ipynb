{
  "nbformat": 4,
  "nbformat_minor": 0,
  "metadata": {
    "colab": {
      "provenance": [],
      "gpuType": "T4",
      "authorship_tag": "ABX9TyOzgl+0+UUngQujXmEljmFL",
      "include_colab_link": true
    },
    "kernelspec": {
      "name": "python3",
      "display_name": "Python 3"
    },
    "language_info": {
      "name": "python"
    },
    "accelerator": "GPU"
  },
  "cells": [
    {
      "cell_type": "markdown",
      "metadata": {
        "id": "view-in-github",
        "colab_type": "text"
      },
      "source": [
        "<a href=\"https://colab.research.google.com/github/yejikwon7/AI/blob/main/CNN-hw.ipynb\" target=\"_parent\"><img src=\"https://colab.research.google.com/assets/colab-badge.svg\" alt=\"Open In Colab\"/></a>"
      ]
    },
    {
      "cell_type": "code",
      "execution_count": 103,
      "metadata": {
        "colab": {
          "base_uri": "https://localhost:8080/"
        },
        "id": "Z5nVBYYtN46p",
        "outputId": "05ac7329-a33a-49b0-f2c5-a7afb915c8e2"
      },
      "outputs": [
        {
          "output_type": "stream",
          "name": "stdout",
          "text": [
            "2.5.1+cu121\n"
          ]
        }
      ],
      "source": [
        "import torch\n",
        "import torch.nn as nn\n",
        "import torch.optim as optim\n",
        "import torch.nn.init as init\n",
        "\n",
        "# torchvision.datasets에 MNIST 등의 다양한 데이터를 사용하기 위해 용이하게 정리\n",
        "import torchvision.datasets as dset   # data set 불러오기 위함\n",
        "\n",
        "# torchvision.transforms에는 이미지 데이터를 자르거나 확대 및 다양하게 변형시키는 함수 구현\n",
        "import torchvision.transforms as transforms   # 변형 작업 수행 위함\n",
        "\n",
        "# DataLoader는 전처리가 끝난 데이터들을 지정한 배치 크기에 맞게 모아서 전달해주는 역할\n",
        "from torch.utils.data import DataLoader\n",
        "import numpy as np # array\n",
        "import matplotlib.pyplot as plt # 그래프\n",
        "\n",
        "print(torch.__version__)"
      ]
    },
    {
      "cell_type": "code",
      "source": [
        "batch_size = 256\n",
        "learning_rage = 0.1\n",
        "num_epoch = 20"
      ],
      "metadata": {
        "id": "EDO8_QwCOPM0"
      },
      "execution_count": 104,
      "outputs": []
    },
    {
      "cell_type": "code",
      "source": [
        "# download는 데이터가 저장할 위치에 없을 경우 새로 다운받을지 여부\n",
        "mnist_train = dset.MNIST(\"../\", train=True, transform=transforms.ToTensor(), target_transform=None, download=True)\n",
        "# ToTensor: conv 연산 수행하기 위함\n",
        "# target_transform: label에 대한 변형\n",
        "mnist_test = dset.MNIST(\"../\", train=False, transform=transforms.ToTensor(), target_transform=None, download=True)"
      ],
      "metadata": {
        "id": "3T-pkS5oOSsz"
      },
      "execution_count": 105,
      "outputs": []
    },
    {
      "cell_type": "code",
      "source": [
        "print(mnist_train.__getitem__(0)[0].size(), mnist_train.__len__())\n",
        "print(mnist_test.__getitem__(0)[0].size(), mnist_test.__len__())\n",
        "\n",
        "print(len(mnist_train), len(mnist_test))"
      ],
      "metadata": {
        "colab": {
          "base_uri": "https://localhost:8080/"
        },
        "id": "ADYy3pSWOVkU",
        "outputId": "1d5305ed-9f53-41b9-e8e8-3f28f7ddde2a"
      },
      "execution_count": 106,
      "outputs": [
        {
          "output_type": "stream",
          "name": "stdout",
          "text": [
            "torch.Size([1, 28, 28]) 60000\n",
            "torch.Size([1, 28, 28]) 10000\n",
            "60000 10000\n"
          ]
        }
      ]
    },
    {
      "cell_type": "code",
      "source": [
        "train_loader = DataLoader(mnist_train, batch_size=batch_size, shuffle=True, num_workers=2, drop_last=True)\n",
        "# batch_size=batch_size: 배치 단위로 나눔\n",
        "# shuffle: 순차적으로 구성된 data인 경우\n",
        "# drop_last: 남은 data 사용할지 -> 사용X, 온전히 256개로 지정된 data만 사용\n",
        "test_loader = DataLoader(mnist_test, batch_size=batch_size, shuffle=False, num_workers=2, drop_last=True)"
      ],
      "metadata": {
        "id": "pb5XfwnoOXLj"
      },
      "execution_count": 107,
      "outputs": []
    },
    {
      "cell_type": "code",
      "source": [
        "class CNN(nn.Module):\n",
        "    def __init__(self, dataset='mnist', num_classes=10):\n",
        "        super(CNN, self).__init__()\n",
        "        if dataset == 'mnist':\n",
        "            input_shape = (1, 28, 28)\n",
        "        else:\n",
        "            raise ValueError(\"Unsupported dataset. Provide input_shape manually for custom datasets.\")\n",
        "\n",
        "        # Convolutional layers\n",
        "        self.layer = nn.Sequential(\n",
        "            nn.Conv2d(in_channels=input_shape[0], out_channels=16, kernel_size=3),\n",
        "            nn.ReLU(),\n",
        "            nn.Dropout2d(0.8),\n",
        "            nn.MaxPool2d(kernel_size=2, stride=2),\n",
        "            nn.Conv2d(in_channels=16, out_channels=32, kernel_size=3),\n",
        "            nn.ReLU(),\n",
        "            nn.Dropout2d(0.8),\n",
        "            nn.MaxPool2d(kernel_size=2, stride=2)\n",
        "        )\n",
        "\n",
        "        # Feature Map 크기 계산\n",
        "        with torch.no_grad():\n",
        "            dummy_input = torch.zeros(1, *input_shape)  # 임시 입력 생성 (배치 크기=1)\n",
        "            feature_map_size = self.layer(dummy_input).view(-1).size(0)  # 평탄화된 Feature 크기 계산\n",
        "\n",
        "        # Fully connected layers\n",
        "        self.fc_layer = nn.Sequential(\n",
        "            nn.Linear(feature_map_size, 256),\n",
        "            nn.ReLU(),\n",
        "            nn.Linear(256, 256),\n",
        "            nn.ReLU(),\n",
        "            nn.Linear(256, num_classes)\n",
        "        )\n",
        "\n",
        "    def forward(self, x):\n",
        "        out = self.layer(x)\n",
        "        out = out.view(out.size(0), -1)\n",
        "        out = self.fc_layer(out)\n",
        "        return out"
      ],
      "metadata": {
        "id": "IrXSyhR4OYY1"
      },
      "execution_count": 108,
      "outputs": []
    },
    {
      "cell_type": "code",
      "source": [
        "# gpu가 사용 가능한 경우에는 device를 gpu로 설정하고 불가능하면 cpu로 설정\n",
        "device = torch.device(\"cuda:0\" if torch.cuda.is_available() else \"cpu\")\n",
        "print(device)\n",
        "\n",
        "# 모델을 지정한 장치로 올림\n",
        "# class로 선언한 모델 가져옴\n",
        "# 데이터도 동일하게 올려야 함\n",
        "# MNIST 데이터셋 사용\n",
        "model = CNN(dataset='mnist', num_classes=10).to(device)\n",
        "\n",
        "# 모델 확인\n",
        "print(model)\n",
        "\n",
        "# 손실함수는 크로스엔트로피 사용\n",
        "loss_func = nn.CrossEntropyLoss()\n",
        "\n",
        "# 최적화 함수\n",
        "#optimizer = torch.optim.Adam(model.parameters(), lr=learning_rage)\n",
        "optimizer = torch.optim.SGD(model.parameters(), lr=learning_rage)"
      ],
      "metadata": {
        "colab": {
          "base_uri": "https://localhost:8080/"
        },
        "id": "_9jf-QgFOZ8b",
        "outputId": "dac17c72-b567-46e5-c36a-a712e8d58aef"
      },
      "execution_count": 109,
      "outputs": [
        {
          "output_type": "stream",
          "name": "stdout",
          "text": [
            "cuda:0\n",
            "CNN(\n",
            "  (layer): Sequential(\n",
            "    (0): Conv2d(1, 16, kernel_size=(3, 3), stride=(1, 1))\n",
            "    (1): ReLU()\n",
            "    (2): MaxPool2d(kernel_size=2, stride=2, padding=0, dilation=1, ceil_mode=False)\n",
            "    (3): Conv2d(16, 32, kernel_size=(3, 3), stride=(1, 1))\n",
            "    (4): ReLU()\n",
            "    (5): MaxPool2d(kernel_size=2, stride=2, padding=0, dilation=1, ceil_mode=False)\n",
            "  )\n",
            "  (fc_layer): Sequential(\n",
            "    (0): Linear(in_features=800, out_features=256, bias=True)\n",
            "    (1): ReLU()\n",
            "    (2): Linear(in_features=256, out_features=100, bias=True)\n",
            "    (3): ReLU()\n",
            "    (4): Linear(in_features=100, out_features=10, bias=True)\n",
            "  )\n",
            ")\n"
          ]
        }
      ]
    },
    {
      "cell_type": "code",
      "source": [
        "loss_arr = []\n",
        "for i in range(num_epoch):\n",
        "    for j, [image, label] in enumerate(train_loader): # iteration\n",
        "    # j: 배치 몇 번째인지\n",
        "        x = image.to(device)\n",
        "        y_ = label.to(device)\n",
        "\n",
        "        optimizer.zero_grad()\n",
        "        output = model.forward(x) # 순전파\n",
        "        loss = loss_func(output, y_) # 손실값\n",
        "        loss.backward() # backpropagation, 기울기 구함\n",
        "        optimizer.step() # 최적화\n",
        "\n",
        "        if j % 1000 == 0: # 1000 iteration마다\n",
        "            print(loss)\n",
        "            loss_arr.append(loss.cpu().detach().numpy())"
      ],
      "metadata": {
        "colab": {
          "base_uri": "https://localhost:8080/"
        },
        "id": "B7su5YzAOack",
        "outputId": "08c2eda2-3522-4a8c-95f6-942b3c335130"
      },
      "execution_count": 110,
      "outputs": [
        {
          "output_type": "stream",
          "name": "stdout",
          "text": [
            "tensor(2.3033, device='cuda:0', grad_fn=<NllLossBackward0>)\n",
            "tensor(0.2836, device='cuda:0', grad_fn=<NllLossBackward0>)\n",
            "tensor(0.0912, device='cuda:0', grad_fn=<NllLossBackward0>)\n",
            "tensor(0.0843, device='cuda:0', grad_fn=<NllLossBackward0>)\n",
            "tensor(0.0730, device='cuda:0', grad_fn=<NllLossBackward0>)\n",
            "tensor(0.0818, device='cuda:0', grad_fn=<NllLossBackward0>)\n",
            "tensor(0.0650, device='cuda:0', grad_fn=<NllLossBackward0>)\n",
            "tensor(0.0251, device='cuda:0', grad_fn=<NllLossBackward0>)\n",
            "tensor(0.0358, device='cuda:0', grad_fn=<NllLossBackward0>)\n",
            "tensor(0.0455, device='cuda:0', grad_fn=<NllLossBackward0>)\n",
            "tensor(0.0139, device='cuda:0', grad_fn=<NllLossBackward0>)\n",
            "tensor(0.0178, device='cuda:0', grad_fn=<NllLossBackward0>)\n",
            "tensor(0.0257, device='cuda:0', grad_fn=<NllLossBackward0>)\n",
            "tensor(0.0108, device='cuda:0', grad_fn=<NllLossBackward0>)\n",
            "tensor(0.0071, device='cuda:0', grad_fn=<NllLossBackward0>)\n",
            "tensor(0.0374, device='cuda:0', grad_fn=<NllLossBackward0>)\n",
            "tensor(0.0212, device='cuda:0', grad_fn=<NllLossBackward0>)\n",
            "tensor(0.0084, device='cuda:0', grad_fn=<NllLossBackward0>)\n",
            "tensor(0.0279, device='cuda:0', grad_fn=<NllLossBackward0>)\n",
            "tensor(0.0128, device='cuda:0', grad_fn=<NllLossBackward0>)\n"
          ]
        }
      ]
    },
    {
      "cell_type": "code",
      "source": [
        "plt.plot(loss_arr)\n",
        "plt.show()"
      ],
      "metadata": {
        "colab": {
          "base_uri": "https://localhost:8080/",
          "height": 430
        },
        "id": "9pyRCHteOchk",
        "outputId": "fdf03c13-6e49-4874-975d-8497e1b7bf74"
      },
      "execution_count": 111,
      "outputs": [
        {
          "output_type": "display_data",
          "data": {
            "text/plain": [
              "<Figure size 640x480 with 1 Axes>"
            ],
            "image/png": "[encoded data removed]"
          },
          "metadata": {}
        }
      ]
    },
    {
      "cell_type": "code",
      "source": [
        "# 맞은 개수, 전체 개수를 저장할 변수를 지정\n",
        "correct = 0 # 예측값 = 실제값\n",
        "total = 0 # 개수 달라질 수 있으므로\n",
        "\n",
        "# 인퍼런스 모드를 위해 no_grad 함\n",
        "# test에선 기울기 계산X\n",
        "with torch.no_grad():\n",
        "    # 테스트로더에서 이미지와 정답 불러옴\n",
        "    for image, label in test_loader:\n",
        "        # 두 데이터 모두 장치에 올림\n",
        "        x = image.to(device)\n",
        "        y_ = label.to(device)\n",
        "\n",
        "        # 모델에 데이터 넣고 결과값 얻음\n",
        "        output = model.forward(x) # 예측값: 확률값으로 나옴\n",
        "\n",
        "        # 최댓값은 필요없으므로 인덱스만 사용\n",
        "        _, output_index = torch.max(output, 1) # 확률 가장 높은 인덱스 찾아옴\n",
        "        # _: 가장 큰 값 = 확률값 -> 날림\n",
        "\n",
        "        # 전체 개수는 라벨의 개수로 더함\n",
        "        # 전체 개수를 알고 있음에도 batch_size, drop_last 영향으로 데이터 잘릴 수 있으므로 수행\n",
        "        total += label.size(0)\n",
        "\n",
        "        # 모델 결과의 최댓값 인덱스와 라벨이 일치하는 개수를 correct에 더함\n",
        "        correct += (output_index == y_).sum().float()\n",
        "\n",
        "    # 테스트 데이터 전체에 대해 위의 작업을 시행 후 정확도 구함\n",
        "    print(\"Accuracy of Test Data: {}\".format(100*correct/total))"
      ],
      "metadata": {
        "colab": {
          "base_uri": "https://localhost:8080/"
        },
        "id": "elWdazVmOeG1",
        "outputId": "9f403bb8-2c23-4144-bb3e-f4e3c4e4a92c"
      },
      "execution_count": 112,
      "outputs": [
        {
          "output_type": "stream",
          "name": "stdout",
          "text": [
            "Accuracy of Test Data: 99.04847717285156\n"
          ]
        }
      ]
    }
  ]
}